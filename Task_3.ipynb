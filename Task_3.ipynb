{
 "cells": [
  {
   "cell_type": "markdown",
   "metadata": {},
   "source": [
    "## Task 3"
   ]
  },
  {
   "cell_type": "code",
   "execution_count": null,
   "metadata": {},
   "outputs": [],
   "source": [
    "# Imports and BigQuery setup\n",
    "import pandas as pd\n",
    "import pandas_gbq\n",
    "import sqlite3\n",
    "from google.cloud import bigquery\n",
    "from google.oauth2 import service_account\n",
    "\n",
    "# BigQuery authentication and connection setup\n",
    "service_path = \"\"\n",
    "service_file = 'umt-msba-gg-key.json'\n",
    "gbq_proj_id ='umt-msba'\n",
    "private_key = service_path + service_file\n",
    "\n",
    "credentials = service_account.Credentials.from_service_account_file(private_key)\n",
    "client = bigquery.Client(credentials=credentials, project=gbq_proj_id)"
   ]
  },
  {
   "cell_type": "code",
   "execution_count": null,
   "metadata": {},
   "outputs": [],
   "source": [
    "# Query 1: Sales by date by hour\n",
    "query1 = \"\"\"\n",
    "SELECT\n",
    "    DATE(datetime) AS formatted_date,\n",
    "    EXTRACT(hour FROM TIMESTAMP(datetime)) AS hour,\n",
    "    ROUND(SUM(total), 2) AS spend,\n",
    "    COUNT(DISTINCT(CONCAT(EXTRACT(date FROM datetime), register_no, emp_no, trans_no))) AS trans,\n",
    "    SUM(CASE WHEN trans_status IN ('R', 'V') THEN -1 ELSE 1 END) AS items\n",
    "FROM `umt-msba.transactions.transArchive_*`\n",
    "WHERE department NOT IN (0, 15) AND\n",
    "      (trans_status IS NULL OR trans_status IN ('R', 'V', ' '))\n",
    "GROUP BY formatted_date, hour\n",
    "ORDER BY formatted_date, hour\n",
    "\"\"\"\n",
    "sales_date_hour = pandas_gbq.read_gbq(query1, project_id=gbq_proj_id, credentials=credentials)"
   ]
  },
  {
   "cell_type": "code",
   "execution_count": null,
   "metadata": {},
   "outputs": [],
   "source": [
    "# Query 2: Sales by owner by year by month\n",
    "query2 = \"\"\"\n",
    "SELECT card_no, \n",
    "       EXTRACT(YEAR FROM datetime) as year,\n",
    "       EXTRACT(MONTH FROM datetime) as month,\n",
    "       SUM(total) as tot_spend,\n",
    "       COUNT(DISTINCT CONCAT(\n",
    "           CAST(EXTRACT(DATE FROM datetime) AS STRING), \n",
    "           CAST(register_no AS STRING), \n",
    "           CAST(emp_no AS STRING), \n",
    "           CAST(trans_no AS STRING))) as no_trans, \n",
    "       SUM(CASE WHEN trans_status IN ('V','R') THEN -1 ELSE 1 END) AS no_items\n",
    "FROM `umt-msba.transactions.transArchive_*`\n",
    "WHERE department NOT IN (0, 15) AND\n",
    "      (trans_status IS NULL OR trans_status IN (' ', 'V', 'R'))\n",
    "GROUP BY card_no, year, month\n",
    "ORDER BY year, month\n",
    "\"\"\"\n",
    "sales_by_owner_ym = pandas_gbq.read_gbq(query2, project_id=gbq_proj_id, credentials=credentials)"
   ]
  },
  {
   "cell_type": "code",
   "execution_count": null,
   "metadata": {},
   "outputs": [],
   "source": [
    "# Query 3: Sales by product description by year by month\n",
    "query3 =\"\"\"\n",
    "SELECT transacts.upc,\n",
    "       transacts.description AS prod_descript,\n",
    "       transacts.department AS departments,\n",
    "       deptlu.dept_name,\n",
    "       EXTRACT(YEAR FROM transacts.datetime) AS year,\n",
    "       EXTRACT(MONTH FROM transacts.datetime) AS month,\n",
    "       SUM(transacts.total) AS tot_spend,\n",
    "       COUNT(DISTINCT CONCAT(\n",
    "           CAST(EXTRACT(DATE FROM transacts.datetime) AS STRING), \n",
    "           CAST(transacts.register_no AS STRING), \n",
    "           CAST(transacts.emp_no AS STRING), \n",
    "           CAST(transacts.trans_no AS STRING))) as no_trans, \n",
    "       SUM(CASE WHEN transacts.trans_status IN ('V','R') THEN -1 ELSE 1 END) AS no_items\n",
    "FROM `umt-msba.transactions.transArchive_*` transacts\n",
    "LEFT JOIN `umt-msba.transactions.department_lookup` deptlu \n",
    "ON transacts.department = deptlu.department\n",
    "WHERE transacts.department NOT IN (0, 15)\n",
    "      AND (transacts.trans_status IS NULL OR transacts.trans_status IN (' ', 'V', 'R'))\n",
    "GROUP BY prod_descript, year, month, transacts.upc, departments, deptlu.dept_name\n",
    "ORDER BY tot_spend DESC;\n",
    "\"\"\"\n",
    "sales_by_prod_ym = pandas_gbq.read_gbq(query3, project_id=gbq_proj_id, credentials=credentials)"
   ]
  },
  {
   "cell_type": "code",
   "execution_count": null,
   "metadata": {},
   "outputs": [],
   "source": [
    "# Creating a connection to the SQLite database\n",
    "db_conn = sqlite3.connect(\"wedge_report.db\")\n",
    "\n",
    "# Populating the database with the DataFrames\n",
    "sales_date_hour.to_sql(name='sales_date_hour', con=db_conn, if_exists='replace', index=False)\n",
    "sales_by_owner_ym.to_sql(name='sales_by_owner_ym', con=db_conn, if_exists='replace', index=False)\n",
    "sales_by_prod_ym.to_sql(name='sales_by_prod_ym', con=db_conn, if_exists='replace', index=False)\n",
    "\n",
    "# Closing the database connection\n",
    "db_conn.close()"
   ]
  }
 ],
 "metadata": {
  "kernelspec": {
   "display_name": "base",
   "language": "python",
   "name": "python3"
  },
  "language_info": {
   "name": "python",
   "version": "3.11.4"
  }
 },
 "nbformat": 4,
 "nbformat_minor": 2
}
