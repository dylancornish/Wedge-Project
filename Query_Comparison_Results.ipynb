{
 "cells": [
  {
   "cell_type": "markdown",
   "metadata": {},
   "source": [
    "## Query Comparison Results\n",
    "\n",
    "They all matched exactly as I would hope since I just uploaded the cleaned files.\n",
    "\n",
    "|  Query       |  Your Results  |  John's Results | Difference | Rel. Diff | \n",
    "|---|---|---|---|---|\n",
    "| Total Rows  | 85760139  |  85760139 | None  |   |\n",
    "| January 2012 Rows  |1070907   |1070907   |  None |   |\n",
    "| October 2012 Rows  |  1042287 |1042287   | None  |   |\n",
    "| Month with Fewest  | 2  | 2  | None | NA  |\n",
    "| Num Rows in Month with Fewest  | 6556770  | 6556770| None  |   |\n",
    "| Month with Most  | 5  |  5 | None | NA  |\n",
    "| Num Rows in Month with Most  | 7578372  | 7578372  |  None |   |\n",
    "| Null_TS  | 7123792  | 7123792  | None  |   |\n",
    "| Null_DT  |  0 |  0 | None  |   |\n",
    "| Null_Local  |  234843 | 234843  | None  |   |\n",
    "| Null_CN  |  0 | 0  | None  |   |\n",
    "| Num 5 on High Volume Cards  | 14987  |14987   | None  | NA  |\n",
    "|  Num Rows for Number 5 | 460630  | 460630  | None  |   |\n",
    "| Num Rows for 18736  |  12153 | 12153  |  None |   |\n",
    "| Product with Most Rows  | banana organic  |banana organic   | None  | NA  |\n",
    "| Num Rows for that Product  |908639   | 908639  | None  |   |\n",
    "| Product with Fourth-Most Rows  |avocado hass organic   | avocado hass organic  | None | NA  |\n",
    "| Num Rows for that Product  | 456771  | 456771  | None  |   |\n",
    "| Num Single Record Products  | 2769  |  2769 |  None |   |\n",
    "| Year with Highest Portion of Owner Rows  | 2014  | 2014  | None  | NA |\n",
    "| Fraction of Rows from Owners in that Year  |  0.7591 | 0.7591  |  None |   |\n",
    "| Year with Lowest Portion of Owner Rows  |2011   |  2011  | None | NA |\n",
    "| Fraction of Rows from Owners in that Year  |0.7372   |0.7372    | None  |   |"
   ]
  }
 ],
 "metadata": {
  "kernelspec": {
   "display_name": "base",
   "language": "python",
   "name": "python3"
  },
  "language_info": {
   "name": "python",
   "version": "3.11.4"
  }
 },
 "nbformat": 4,
 "nbformat_minor": 2
}
