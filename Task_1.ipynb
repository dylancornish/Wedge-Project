{
 "cells": [
  {
   "cell_type": "markdown",
   "metadata": {},
   "source": [
    "## Task 1"
   ]
  },
  {
   "cell_type": "code",
   "execution_count": 2,
   "metadata": {},
   "outputs": [],
   "source": [
    "from google.cloud import bigquery\n",
    "from google.oauth2 import service_account\n",
    "import os\n",
    "\n",
    "# Initialize BigQuery client with credentials\n",
    "service_path = \"\"\n",
    "service_file = 'wedge-project-405605-b2caa39a9f6d.json'  \n",
    "gbq_proj_id = 'wedge-project-405605'  \n",
    "private_key = service_path + service_file\n",
    "\n",
    "credentials = service_account.Credentials.from_service_account_file(private_key)\n",
    "client = bigquery.Client(credentials=credentials, project=gbq_proj_id)"
   ]
  },
  {
   "cell_type": "code",
   "execution_count": 1,
   "metadata": {},
   "outputs": [
    {
     "name": "stdout",
     "output_type": "stream",
     "text": [
      "Uploaded transArchive_201001_201003_clean.csv as table transArchive_201001_201003_clean to BigQuery\n",
      "Uploaded transArchive_201004_201006_clean.csv as table transArchive_201004_201006_clean to BigQuery\n",
      "Uploaded transArchive_201007_201009_clean.csv as table transArchive_201007_201009_clean to BigQuery\n",
      "Uploaded transArchive_201010_201012_clean.csv as table transArchive_201010_201012_clean to BigQuery\n",
      "Uploaded transArchive_201101_201103_clean.csv as table transArchive_201101_201103_clean to BigQuery\n",
      "Uploaded transArchive_201104_clean.csv as table transArchive_201104_clean to BigQuery\n",
      "Uploaded transArchive_201105_clean.csv as table transArchive_201105_clean to BigQuery\n",
      "Uploaded transArchive_201106_clean.csv as table transArchive_201106_clean to BigQuery\n",
      "Uploaded transArchive_201107_201109_clean.csv as table transArchive_201107_201109_clean to BigQuery\n",
      "Uploaded transArchive_201110_201112_clean.csv as table transArchive_201110_201112_clean to BigQuery\n",
      "Uploaded transArchive_201201_201203_clean.csv as table transArchive_201201_201203_clean to BigQuery\n",
      "Uploaded transArchive_201201_201203_inactive_clean.csv as table transArchive_201201_201203_inactive_clean to BigQuery\n",
      "Uploaded transArchive_201204_201206_clean.csv as table transArchive_201204_201206_clean to BigQuery\n",
      "Uploaded transArchive_201204_201206_inactive_clean.csv as table transArchive_201204_201206_inactive_clean to BigQuery\n",
      "Uploaded transArchive_201207_201209_clean.csv as table transArchive_201207_201209_clean to BigQuery\n",
      "Uploaded transArchive_201207_201209_inactive_clean.csv as table transArchive_201207_201209_inactive_clean to BigQuery\n",
      "Uploaded transArchive_201210_201212_clean.csv as table transArchive_201210_201212_clean to BigQuery\n",
      "Uploaded transArchive_201210_201212_inactive_clean.csv as table transArchive_201210_201212_inactive_clean to BigQuery\n",
      "Uploaded transArchive_201301_201303_clean.csv as table transArchive_201301_201303_clean to BigQuery\n",
      "Uploaded transArchive_201301_201303_inactive_clean.csv as table transArchive_201301_201303_inactive_clean to BigQuery\n",
      "Uploaded transArchive_201304_201306_clean.csv as table transArchive_201304_201306_clean to BigQuery\n",
      "Uploaded transArchive_201304_201306_inactive_clean.csv as table transArchive_201304_201306_inactive_clean to BigQuery\n",
      "Uploaded transArchive_201307_201309_clean.csv as table transArchive_201307_201309_clean to BigQuery\n",
      "Uploaded transArchive_201307_201309_inactive_clean.csv as table transArchive_201307_201309_inactive_clean to BigQuery\n",
      "Uploaded transArchive_201310_201312_clean.csv as table transArchive_201310_201312_clean to BigQuery\n",
      "Uploaded transArchive_201310_201312_inactive_clean.csv as table transArchive_201310_201312_inactive_clean to BigQuery\n",
      "Uploaded transArchive_201401_201403_clean.csv as table transArchive_201401_201403_clean to BigQuery\n",
      "Uploaded transArchive_201401_201403_inactive_clean.csv as table transArchive_201401_201403_inactive_clean to BigQuery\n",
      "Uploaded transArchive_201404_201406_clean.csv as table transArchive_201404_201406_clean to BigQuery\n",
      "Uploaded transArchive_201404_201406_inactive_clean.csv as table transArchive_201404_201406_inactive_clean to BigQuery\n",
      "Uploaded transArchive_201407_201409_clean.csv as table transArchive_201407_201409_clean to BigQuery\n",
      "Uploaded transArchive_201407_201409_inactive_clean.csv as table transArchive_201407_201409_inactive_clean to BigQuery\n",
      "Uploaded transArchive_201410_201412_clean.csv as table transArchive_201410_201412_clean to BigQuery\n",
      "Uploaded transArchive_201410_201412_inactive_clean.csv as table transArchive_201410_201412_inactive_clean to BigQuery\n",
      "Uploaded transArchive_201501_201503_clean.csv as table transArchive_201501_201503_clean to BigQuery\n",
      "Uploaded transArchive_201504_201506_clean.csv as table transArchive_201504_201506_clean to BigQuery\n",
      "Uploaded transArchive_201507_201509_clean.csv as table transArchive_201507_201509_clean to BigQuery\n",
      "Uploaded transArchive_201510_clean.csv as table transArchive_201510_clean to BigQuery\n",
      "Uploaded transArchive_201511_clean.csv as table transArchive_201511_clean to BigQuery\n",
      "Uploaded transArchive_201512_clean.csv as table transArchive_201512_clean to BigQuery\n",
      "Uploaded transArchive_201601_clean.csv as table transArchive_201601_clean to BigQuery\n",
      "Uploaded transArchive_201602_clean.csv as table transArchive_201602_clean to BigQuery\n",
      "Uploaded transArchive_201603_clean.csv as table transArchive_201603_clean to BigQuery\n",
      "Uploaded transArchive_201604_clean.csv as table transArchive_201604_clean to BigQuery\n",
      "Uploaded transArchive_201605_clean.csv as table transArchive_201605_clean to BigQuery\n",
      "Uploaded transArchive_201606_clean.csv as table transArchive_201606_clean to BigQuery\n",
      "Uploaded transArchive_201607_clean.csv as table transArchive_201607_clean to BigQuery\n",
      "Uploaded transArchive_201608_clean.csv as table transArchive_201608_clean to BigQuery\n",
      "Uploaded transArchive_201609_clean.csv as table transArchive_201609_clean to BigQuery\n",
      "Uploaded transArchive_201610_clean.csv as table transArchive_201610_clean to BigQuery\n",
      "Uploaded transArchive_201611_clean.csv as table transArchive_201611_clean to BigQuery\n",
      "Uploaded transArchive_201612_clean.csv as table transArchive_201612_clean to BigQuery\n",
      "Uploaded transArchive_201701_clean.csv as table transArchive_201701_clean to BigQuery\n",
      "All files have been uploaded.\n"
     ]
    }
   ],
   "source": [
    "# Specify your dataset in BigQuery\n",
    "dataset_id = 'Transactions'  \n",
    "\n",
    "# Path to the folder containing the cleaned CSV files\n",
    "folder_path = 'C:\\\\Users\\\\Dylan\\\\Desktop\\\\Wedge\\\\wedge-clean-files\\\\clean-files'  \n",
    "\n",
    "# Iterate over each file in the folder\n",
    "for filename in os.listdir(folder_path):\n",
    "    if filename.endswith('.csv'):  # Check if the file is a CSV\n",
    "        # Create a table_id from the filename (excluding the extension)\n",
    "        table_id = filename[:-4]  # Removes the '.csv' from the filename\n",
    "\n",
    "        file_path = os.path.join(folder_path, filename)\n",
    "        table_ref = client.dataset(dataset_id).table(table_id)\n",
    "\n",
    "        # Configure the load job\n",
    "        job_config = bigquery.LoadJobConfig(\n",
    "            source_format=bigquery.SourceFormat.CSV,\n",
    "            skip_leading_rows=1,  # Assuming the CSV files have a header row\n",
    "            autodetect=True,  # Auto-detect schema (can be set manually if needed)\n",
    "            write_disposition=bigquery.WriteDisposition.WRITE_TRUNCATE,  # Overwrite existing data\n",
    "        )\n",
    "\n",
    "        # Start the load job\n",
    "        with open(file_path, \"rb\") as source_file:\n",
    "            job = client.load_table_from_file(source_file, table_ref, job_config=job_config)\n",
    "\n",
    "        job.result()  # Wait for the job to complete\n",
    "\n",
    "        print(f\"Uploaded {filename} as table {table_id} to BigQuery\")\n",
    "\n",
    "print(\"All files have been uploaded.\")"
   ]
  }
 ],
 "metadata": {
  "kernelspec": {
   "display_name": "base",
   "language": "python",
   "name": "python3"
  },
  "language_info": {
   "codemirror_mode": {
    "name": "ipython",
    "version": 3
   },
   "file_extension": ".py",
   "mimetype": "text/x-python",
   "name": "python",
   "nbconvert_exporter": "python",
   "pygments_lexer": "ipython3",
   "version": "3.11.4"
  }
 },
 "nbformat": 4,
 "nbformat_minor": 2
}
