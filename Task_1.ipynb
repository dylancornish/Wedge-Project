{
 "cells": [
  {
   "cell_type": "code",
   "execution_count": null,
   "metadata": {},
   "outputs": [],
   "source": [
    "# Task 1"
   ]
  },
  {
   "cell_type": "code",
   "execution_count": 1,
   "metadata": {},
   "outputs": [
    {
     "name": "stdout",
     "output_type": "stream",
     "text": [
      "Uploaded transArchive_201001_201003_clean.csv to BigQuery\n",
      "Uploaded transArchive_201004_201006_clean.csv to BigQuery\n",
      "Uploaded transArchive_201007_201009_clean.csv to BigQuery\n",
      "Uploaded transArchive_201010_201012_clean.csv to BigQuery\n",
      "Uploaded transArchive_201101_201103_clean.csv to BigQuery\n",
      "Uploaded transArchive_201104_clean.csv to BigQuery\n",
      "Uploaded transArchive_201105_clean.csv to BigQuery\n",
      "Uploaded transArchive_201106_clean.csv to BigQuery\n",
      "Uploaded transArchive_201107_201109_clean.csv to BigQuery\n",
      "Uploaded transArchive_201110_201112_clean.csv to BigQuery\n",
      "Uploaded transArchive_201201_201203_clean.csv to BigQuery\n",
      "Uploaded transArchive_201201_201203_inactive_clean.csv to BigQuery\n",
      "Uploaded transArchive_201204_201206_clean.csv to BigQuery\n",
      "Uploaded transArchive_201204_201206_inactive_clean.csv to BigQuery\n",
      "Uploaded transArchive_201207_201209_clean.csv to BigQuery\n",
      "Uploaded transArchive_201207_201209_inactive_clean.csv to BigQuery\n",
      "Uploaded transArchive_201210_201212_clean.csv to BigQuery\n",
      "Uploaded transArchive_201210_201212_inactive_clean.csv to BigQuery\n",
      "Uploaded transArchive_201301_201303_clean.csv to BigQuery\n",
      "Uploaded transArchive_201301_201303_inactive_clean.csv to BigQuery\n",
      "Uploaded transArchive_201304_201306_clean.csv to BigQuery\n",
      "Uploaded transArchive_201304_201306_inactive_clean.csv to BigQuery\n",
      "Uploaded transArchive_201307_201309_clean.csv to BigQuery\n",
      "Uploaded transArchive_201307_201309_inactive_clean.csv to BigQuery\n",
      "Uploaded transArchive_201310_201312_clean.csv to BigQuery\n",
      "Uploaded transArchive_201310_201312_inactive_clean.csv to BigQuery\n",
      "Uploaded transArchive_201401_201403_clean.csv to BigQuery\n",
      "Uploaded transArchive_201401_201403_inactive_clean.csv to BigQuery\n",
      "Uploaded transArchive_201404_201406_clean.csv to BigQuery\n",
      "Uploaded transArchive_201404_201406_inactive_clean.csv to BigQuery\n",
      "Uploaded transArchive_201407_201409_clean.csv to BigQuery\n",
      "Uploaded transArchive_201407_201409_inactive_clean.csv to BigQuery\n",
      "Uploaded transArchive_201410_201412_clean.csv to BigQuery\n",
      "Uploaded transArchive_201410_201412_inactive_clean.csv to BigQuery\n"
     ]
    }
   ],
   "source": [
    "from google.cloud import bigquery\n",
    "from google.oauth2 import service_account\n",
    "import os\n",
    "\n",
    "# Initialize BigQuery client with credentials\n",
    "service_path = \"\"\n",
    "service_file = 'wedge-project-405605-b2caa39a9f6d.json'  # Replace with your service file name\n",
    "gbq_proj_id = 'wedge-project-405605'  # Replace with your project ID\n",
    "private_key = service_path + service_file\n",
    "\n",
    "credentials = service_account.Credentials.from_service_account_file(private_key)\n",
    "client = bigquery.Client(credentials=credentials, project=gbq_proj_id)\n",
    "\n",
    "# Specify your dataset and table in BigQuery\n",
    "dataset_id = 'Transactions'  # Replace with your dataset ID\n",
    "table_id = 'cleaned_transactions'  # Replace with your table ID\n",
    "\n",
    "# Path to the folder containing the cleaned CSV files\n",
    "folder_path = 'C:\\\\Users\\\\Dylan\\\\Desktop\\\\Wedge\\\\wedge-clean-files\\\\clean-files'  \n",
    "\n",
    "\n",
    "\n",
    "# Iterate over each file in the folder\n",
    "for filename in os.listdir(folder_path):\n",
    "    if filename.endswith('.csv'):  # Check if the file is a CSV\n",
    "        file_path = os.path.join(folder_path, filename)\n",
    "        table_ref = client.dataset(dataset_id).table(table_id)\n",
    "\n",
    "        # Configure the load job\n",
    "        job_config = bigquery.LoadJobConfig(\n",
    "            source_format=bigquery.SourceFormat.CSV,\n",
    "            skip_leading_rows=1,  # Assuming your CSV files have a header row\n",
    "            autodetect=True,  # Auto-detect schema (can be set manually if needed)\n",
    "            write_disposition=bigquery.WriteDisposition.WRITE_TRUNCATE,  # Overwrite existing data\n",
    "        )\n",
    "\n",
    "        # Start the load job\n",
    "        with open(file_path, \"rb\") as source_file:\n",
    "            job = client.load_table_from_file(source_file, table_ref, job_config=job_config)\n",
    "\n",
    "        job.result()  # Wait for the job to complete\n",
    "\n",
    "        print(f\"Uploaded {filename} to BigQuery\")\n",
    "\n",
    "print(\"All files have been uploaded.\")\n"
   ]
  }
 ],
 "metadata": {
  "kernelspec": {
   "display_name": "base",
   "language": "python",
   "name": "python3"
  },
  "language_info": {
   "codemirror_mode": {
    "name": "ipython",
    "version": 3
   },
   "file_extension": ".py",
   "mimetype": "text/x-python",
   "name": "python",
   "nbconvert_exporter": "python",
   "pygments_lexer": "ipython3",
   "version": "3.11.4"
  }
 },
 "nbformat": 4,
 "nbformat_minor": 2
}
