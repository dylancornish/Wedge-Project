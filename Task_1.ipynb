{
 "cells": [
  {
   "cell_type": "markdown",
   "metadata": {},
   "source": [
    "## Task 1"
   ]
  },
  {
   "cell_type": "code",
   "execution_count": 3,
   "metadata": {},
   "outputs": [],
   "source": [
    "from google.cloud import bigquery\n",
    "from google.oauth2 import service_account\n",
    "import os\n",
    "\n",
    "# Initialize BigQuery client with credentials\n",
    "service_path = \"\"\n",
    "service_file = 'wedge-project-405605-b2caa39a9f6d.json'  \n",
    "gbq_proj_id = 'wedge-project-405605'  \n",
    "private_key = service_path + service_file\n",
    "\n",
    "credentials = service_account.Credentials.from_service_account_file(private_key)\n",
    "client = bigquery.Client(credentials=credentials, project=gbq_proj_id)\n",
    "\n",
    "# Specify your dataset in BigQuery\n",
    "dataset_id = 'Transactions'  # Replace with your dataset ID\n",
    "\n",
    "# Path to the folder containing the cleaned CSV files\n",
    "folder_path = 'C:\\\\Users\\\\Dylan\\\\Desktop\\\\Wedge\\\\wedge-clean-files\\\\clean-files'  \n",
    "\n",
    "# Iterate over each file in the folder\n",
    "for filename in os.listdir(folder_path):\n",
    "    if filename.endswith('.csv'):  # Check if the file is a CSV\n",
    "        # Create a table_id from the filename (excluding the extension)\n",
    "        table_id = filename[:-4]  # Removes the '.csv' from the filename\n",
    "\n",
    "        file_path = os.path.join(folder_path, filename)\n",
    "        table_ref = client.dataset(dataset_id).table(table_id)\n",
    "\n",
    "        # Configure the load job\n",
    "        job_config = bigquery.LoadJobConfig(\n",
    "            source_format=bigquery.SourceFormat.CSV,\n",
    "            skip_leading_rows=1,  # Assuming your CSV files have a header row\n",
    "            autodetect=True,  # Auto-detect schema (can be set manually if needed)\n",
    "            write_disposition=bigquery.WriteDisposition.WRITE_TRUNCATE,  # Overwrite existing data\n",
    "        )\n",
    "\n",
    "        # Start the load job\n",
    "        with open(file_path, \"rb\") as source_file:\n",
    "            job = client.load_table_from_file(source_file, table_ref, job_config=job_config)\n",
    "\n",
    "        job.result()  # Wait for the job to complete\n",
    "\n",
    "        print(f\"Uploaded {filename} as table {table_id} to BigQuery\")\n",
    "\n",
    "print(\"All files have been uploaded.\")"
   ]
  }
 ],
 "metadata": {
  "kernelspec": {
   "display_name": "base",
   "language": "python",
   "name": "python3"
  },
  "language_info": {
   "codemirror_mode": {
    "name": "ipython",
    "version": 3
   },
   "file_extension": ".py",
   "mimetype": "text/x-python",
   "name": "python",
   "nbconvert_exporter": "python",
   "pygments_lexer": "ipython3",
   "version": "3.11.4"
  }
 },
 "nbformat": 4,
 "nbformat_minor": 2
}
