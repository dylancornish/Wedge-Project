{
 "cells": [
  {
   "cell_type": "markdown",
   "metadata": {},
   "source": [
    "## Reflections\n",
    "\n",
    "This was quite an interesting project, certainly one of the most difficult I’ve\n",
    "had to do academically. I spent at least 30 hours on it, and while Chad was very\n",
    "helpful as always, for this project I felt like I was in the driver’s seat, \n",
    "with Chad working more like a syntax assistant. I think it’s important in life to \n",
    "try a diverse range of pursuits to see what you enjoy, and more importantly \n",
    "what you don’t enjoy. I definitely don’t want to be a Data Engineer. I do \n",
    "enjoy learning the concepts and it was very satisfying to get these working \n",
    "properly. However, the struggle to get there was not worth the payoff for me.\n",
    "I don’t have the engineering mindset, which may not be a bad thing.\n",
    "\n",
    "I did get an enormous amount of value out this project, it will absolutely be \n",
    "a go-to reference for me during interviews. Using this big real-world dataset \n",
    "and combining all the technologies and platforms to get everything running \n",
    "correctly was a huge task for me. It was difficult, but refreshing to get a \n",
    "taste of what actual programming work is. Is it just me or are Windows file \n",
    "paths and permissions weirdly frustrating? I don’t know if enjoy is the right \n",
    "word, but I do find it very satisfying to get programs talking to each other \n",
    "and settings dialed in. I also liked the security aspect with credentials and \n",
    "API’s and access levels. It was really cool doing all these tasks using Python.\n",
    "\n"
   ]
  },
  {
   "cell_type": "markdown",
   "metadata": {},
   "source": []
  }
 ],
 "metadata": {
  "kernelspec": {
   "display_name": "base",
   "language": "python",
   "name": "python3"
  },
  "language_info": {
   "name": "python",
   "version": "3.11.4"
  }
 },
 "nbformat": 4,
 "nbformat_minor": 2
}
