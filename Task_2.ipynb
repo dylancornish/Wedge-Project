{
 "cells": [
  {
   "cell_type": "markdown",
   "metadata": {},
   "source": [
    "## Task 2"
   ]
  },
  {
   "cell_type": "code",
   "execution_count": 11,
   "metadata": {},
   "outputs": [],
   "source": [
    "# Imports\n",
    "import pandas as pd\n",
    "import os\n",
    "from google.cloud import bigquery\n",
    "from google.oauth2 import service_account\n",
    "\n",
    "# BigQuery client initialization with credentials\n",
    "service_path = \"\"\n",
    "service_file = 'umt-msba-7b4265df0ca4.json'  \n",
    "gbq_proj_id = 'umt-msba'  \n",
    "private_key = service_path + service_file\n",
    "\n",
    "credentials = service_account.Credentials.from_service_account_file(private_key)\n",
    "client = bigquery.Client(credentials=credentials, project=gbq_proj_id)"
   ]
  },
  {
   "cell_type": "code",
   "execution_count": 12,
   "metadata": {},
   "outputs": [],
   "source": [
    "# SQL query to fetch a random sample of owners and their transactions\n",
    "sql = '''\n",
    "WITH rand_cte AS (\n",
    "    SELECT DISTINCT card_no\n",
    "    FROM `umt-msba.transactions.transArchive_*`\n",
    "    WHERE card_no != 3\n",
    "    ORDER BY RAND()\n",
    "    LIMIT 500\n",
    ")\n",
    "\n",
    "SELECT *\n",
    "FROM `umt-msba.transactions.transArchive_*` AS trans\n",
    "JOIN rand_cte ON rand_cte.card_no = trans.card_no\n",
    "'''\n",
    "\n",
    "# Execute the query and convert to DataFrame\n",
    "df = client.query(sql).to_dataframe()\n",
    "\n",
    "# Specify the file path for the CSV \n",
    "csv_file_path = \"C:\\\\Users\\\\Dylan\\\\Desktop\\\\Wedge\\\\owner_sample.csv\"  \n",
    "\n",
    "# Save the DataFrame to CSV, overwriting if the file already exists\n",
    "df.to_csv(csv_file_path, index=False)\n",
    "\n"
   ]
  },
  {
   "cell_type": "code",
   "execution_count": 13,
   "metadata": {},
   "outputs": [
    {
     "name": "stdout",
     "output_type": "stream",
     "text": [
      "The file size is approximately 254.48 MB\n"
     ]
    }
   ],
   "source": [
    "# Check the size of the output file\n",
    "file_size_kb = os.path.getsize(csv_file_path) / 1024  # File size in kilobytes\n",
    "file_size_mb = file_size_kb / 1024  # Convert to megabytes\n",
    "print(f\"The file size is approximately {file_size_mb:.2f} MB\")"
   ]
  }
 ],
 "metadata": {
  "kernelspec": {
   "display_name": "base",
   "language": "python",
   "name": "python3"
  },
  "language_info": {
   "name": "python",
   "version": "3.11.4"
  }
 },
 "nbformat": 4,
 "nbformat_minor": 2
}
